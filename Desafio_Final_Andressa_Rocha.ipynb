{
  "nbformat": 4,
  "nbformat_minor": 0,
  "metadata": {
    "colab": {
      "provenance": [],
      "authorship_tag": "ABX9TyOC1cTsxa8aAT2E8cT6pPA/",
      "include_colab_link": true
    },
    "kernelspec": {
      "name": "python3",
      "display_name": "Python 3"
    },
    "language_info": {
      "name": "python"
    }
  },
  "cells": [
    {
      "cell_type": "markdown",
      "metadata": {
        "id": "view-in-github",
        "colab_type": "text"
      },
      "source": [
        "<a href=\"https://colab.research.google.com/github/DarthLilac/Desafio_Python_para_Dados/blob/main/Desafio_Final_Andressa_Rocha.ipynb\" target=\"_parent\"><img src=\"https://colab.research.google.com/assets/colab-badge.svg\" alt=\"Open In Colab\"/></a>"
      ]
    },
    {
      "cell_type": "markdown",
      "source": [
        "# Python para Dados - Desafio Final - Andressa Lourenço da Rocha\n"
      ],
      "metadata": {
        "id": "JURcLuu5XufZ"
      }
    },
    {
      "cell_type": "markdown",
      "source": [
        "Você é uma pesquisadora que está tentando entender melhor qual o impacto\n",
        "do estilo de vida de uma pessoa na sua qualidade de sono, por isso fez a\n",
        "coleta dos dados de sobre 373 pessoas, onde foram recolhidas 12\n",
        "características para cada uma delas. Por competência a sua pesquisa foi bem\n",
        "controlada e você não tem dados faltosos na sua base. Chegou o momento\n",
        "de você fazer sua análise e responder algumas perguntas.\n"
      ],
      "metadata": {
        "id": "FcXJj60VX3jC"
      }
    },
    {
      "cell_type": "code",
      "execution_count": null,
      "metadata": {
        "id": "hVs-9m0QMYNh"
      },
      "outputs": [],
      "source": [
        "import pandas as pd"
      ]
    },
    {
      "cell_type": "code",
      "source": [
        "df = pd.read_csv('saude_do_sono_estilo_vida.csv')"
      ],
      "metadata": {
        "id": "_wkYufP2MrG1"
      },
      "execution_count": null,
      "outputs": []
    },
    {
      "cell_type": "code",
      "source": [
        "import numpy as np"
      ],
      "metadata": {
        "id": "GZxiFQPFMwxD"
      },
      "execution_count": null,
      "outputs": []
    },
    {
      "cell_type": "code",
      "source": [
        "print(df.head())"
      ],
      "metadata": {
        "colab": {
          "base_uri": "https://localhost:8080/"
        },
        "id": "d2xkkNxLM0IH",
        "outputId": "bc3e7329-99fd-40a1-85ef-8d6c791aa1ba"
      },
      "execution_count": null,
      "outputs": [
        {
          "output_type": "stream",
          "name": "stdout",
          "text": [
            "   ID Gênero  Idade                 Ocupação  Duração do sono  \\\n",
            "0   1  Homem     27         Eng. de Software              6.1   \n",
            "1   2  Homem     28                Médico(a)              6.2   \n",
            "2   3  Homem     28                Médico(a)              6.2   \n",
            "3   4  Homem     28  Representante de Vendas              5.9   \n",
            "4   5  Homem     28  Representante de Vendas              5.9   \n",
            "\n",
            "   Qualidade do sono  Nível de atividade física  Nível de estresse  \\\n",
            "0                  6                         42                  6   \n",
            "1                  6                         60                  8   \n",
            "2                  6                         60                  8   \n",
            "3                  4                         30                  8   \n",
            "4                  4                         30                  8   \n",
            "\n",
            "  Categoria BMI Pressão sanguíneaaaa  Frequência cardíaca  Passos diários  \\\n",
            "0     Sobrepeso               126/83                   77            4200   \n",
            "1        Normal               125/80                   75           10000   \n",
            "2        Normal               125/80                   75           10000   \n",
            "3     Obesidade               140/90                   85            3000   \n",
            "4     Obesidade               140/90                   85            3000   \n",
            "\n",
            "  Distúrbio do sono  \n",
            "0           Nenhuma  \n",
            "1           Nenhuma  \n",
            "2           Nenhuma  \n",
            "3    Apneia do sono  \n",
            "4    Apneia do sono  \n"
          ]
        }
      ]
    },
    {
      "cell_type": "code",
      "source": [
        "print(df.columns)"
      ],
      "metadata": {
        "colab": {
          "base_uri": "https://localhost:8080/"
        },
        "id": "NdYgLGqTM8eN",
        "outputId": "17132e70-ef65-498a-fa7b-e83cb6514f2b"
      },
      "execution_count": null,
      "outputs": [
        {
          "output_type": "stream",
          "name": "stdout",
          "text": [
            "Index(['ID', 'Gênero', 'Idade', 'Ocupação', 'Duração do sono',\n",
            "       'Qualidade do sono', 'Nível de atividade física', 'Nível de estresse',\n",
            "       'Categoria BMI', 'Pressão sanguíneaaaa', 'Frequência cardíaca',\n",
            "       'Passos diários', 'Distúrbio do sono'],\n",
            "      dtype='object')\n"
          ]
        }
      ]
    },
    {
      "cell_type": "markdown",
      "source": [
        "1. Ao visualizar a base você percebeu que seria melhor alterar o nome de\n",
        "algumas colunas. Mude o ‘ID’ para ‘Identificador’, corrija o nome da\n",
        "coluna que indica a pressão sanguínea, mude a coluna ‘Ocupação’ para\n",
        "‘Profissão’, a coluna ‘Categoria BMI’ está em parte em inglês, substitua\n",
        "para ‘Categoria IMC’"
      ],
      "metadata": {
        "id": "ESxx4-JvX9D1"
      }
    },
    {
      "cell_type": "code",
      "source": [
        "df.rename(columns={'ID': 'Identificador'}, inplace=True)"
      ],
      "metadata": {
        "id": "fc86hLDvNGIP"
      },
      "execution_count": null,
      "outputs": []
    },
    {
      "cell_type": "code",
      "source": [
        "df.rename(columns={'Pressão sanguíneaaaa': 'Pressão sanguínea'}, inplace=True)"
      ],
      "metadata": {
        "id": "TQtPh5qTNZMZ"
      },
      "execution_count": null,
      "outputs": []
    },
    {
      "cell_type": "code",
      "source": [
        "df.rename(columns={'Ocupação': 'Profissão'}, inplace=True)"
      ],
      "metadata": {
        "id": "ASFLIpPfNven"
      },
      "execution_count": null,
      "outputs": []
    },
    {
      "cell_type": "code",
      "source": [
        "df.rename(columns={'Categoria BMI': 'Categoria IMC'}, inplace=True)"
      ],
      "metadata": {
        "id": "mTNGQThJHl3o"
      },
      "execution_count": null,
      "outputs": []
    },
    {
      "cell_type": "code",
      "source": [
        "df.to_csv('saude_do_sono_estilo_vida.csv', index=False)"
      ],
      "metadata": {
        "id": "vCTJLN4WHDfa"
      },
      "execution_count": null,
      "outputs": []
    },
    {
      "cell_type": "code",
      "source": [
        "print(df.columns)"
      ],
      "metadata": {
        "colab": {
          "base_uri": "https://localhost:8080/"
        },
        "id": "vmAH9OuVODkT",
        "outputId": "34f9df73-8b01-489d-bd55-99de5491e25e"
      },
      "execution_count": null,
      "outputs": [
        {
          "output_type": "stream",
          "name": "stdout",
          "text": [
            "Index(['Identificador', 'Gênero', 'Idade', 'Profissão', 'Duração do sono',\n",
            "       'Qualidade do sono', 'Nível de atividade física', 'Nível de estresse',\n",
            "       'Categoria BMI', 'Pressão sanguínea', 'Frequência cardíaca',\n",
            "       'Passos diários', 'Distúrbio do sono'],\n",
            "      dtype='object')\n"
          ]
        }
      ]
    },
    {
      "cell_type": "markdown",
      "source": [
        "2.Qual é a média, a moda e a mediana de horas de sono para cada uma\n",
        "das profissões?"
      ],
      "metadata": {
        "id": "KCGyjfc-YGFD"
      }
    },
    {
      "cell_type": "code",
      "source": [
        "colunas_selecionadas = ['Profissão', 'Duração do sono']"
      ],
      "metadata": {
        "id": "E8V0n-NtPpuN"
      },
      "execution_count": null,
      "outputs": []
    },
    {
      "cell_type": "code",
      "source": [
        "dataframe = pd.read_csv('saude_do_sono_estilo_vida.csv')"
      ],
      "metadata": {
        "id": "lCvgFejDPykt"
      },
      "execution_count": null,
      "outputs": []
    },
    {
      "cell_type": "code",
      "source": [
        "dados_selecionados = dataframe[colunas_selecionadas]"
      ],
      "metadata": {
        "id": "wvpqhky3PrvC"
      },
      "execution_count": null,
      "outputs": []
    },
    {
      "cell_type": "code",
      "source": [
        "media_por_profissao = dados_selecionados.groupby('Profissão')['Duração do sono'].mean()"
      ],
      "metadata": {
        "id": "yDbFmPFUQSs3"
      },
      "execution_count": null,
      "outputs": []
    },
    {
      "cell_type": "code",
      "source": [
        "print(\"Média da duração do sono por profissão:\")\n",
        "print(media_por_profissao)"
      ],
      "metadata": {
        "colab": {
          "base_uri": "https://localhost:8080/"
        },
        "id": "boq4tbtlQWEn",
        "outputId": "a1deb65e-dfa6-4a91-9a16-52b9f5d70e71"
      },
      "execution_count": null,
      "outputs": [
        {
          "output_type": "stream",
          "name": "stdout",
          "text": [
            "Média da duração do sono por profissão:\n",
            "Profissão\n",
            "Advogado(a)                7.410638\n",
            "Cientista                  6.000000\n",
            "Contador(a)                7.113514\n",
            "Enfermeiro(a)              7.048611\n",
            "Eng. de Software           6.750000\n",
            "Engenheiro(a)              7.987302\n",
            "Gerente                    6.900000\n",
            "Médico(a)                  6.970423\n",
            "Pessoa Vendendora          6.403125\n",
            "Professor(a)               6.690000\n",
            "Representante de Vendas    5.900000\n",
            "Name: Duração do sono, dtype: float64\n"
          ]
        }
      ]
    },
    {
      "cell_type": "code",
      "source": [
        "mediana_por_profissao = dados_selecionados.groupby('Profissão')['Duração do sono'].apply(np.median)"
      ],
      "metadata": {
        "id": "_SGMY2w0Qd8b"
      },
      "execution_count": null,
      "outputs": []
    },
    {
      "cell_type": "code",
      "source": [
        "print(\"Mediana da duração do sono por profissão:\")\n",
        "print(mediana_por_profissao)"
      ],
      "metadata": {
        "colab": {
          "base_uri": "https://localhost:8080/"
        },
        "id": "4gvgAteHQziH",
        "outputId": "1a3dafa4-4a82-4fca-d541-f194b329f82a"
      },
      "execution_count": null,
      "outputs": [
        {
          "output_type": "stream",
          "name": "stdout",
          "text": [
            "Mediana da duração do sono por profissão:\n",
            "Profissão\n",
            "Advogado(a)                7.3\n",
            "Cientista                  6.0\n",
            "Contador(a)                7.2\n",
            "Enfermeiro(a)              6.5\n",
            "Eng. de Software           6.8\n",
            "Engenheiro(a)              8.3\n",
            "Gerente                    6.9\n",
            "Médico(a)                  7.6\n",
            "Pessoa Vendendora          6.4\n",
            "Professor(a)               6.6\n",
            "Representante de Vendas    5.9\n",
            "Name: Duração do sono, dtype: float64\n"
          ]
        }
      ]
    },
    {
      "cell_type": "code",
      "source": [
        "moda_por_profissao = dados_selecionados.groupby('Profissão')['Duração do sono'].apply(lambda x: x.mode().iloc[0])"
      ],
      "metadata": {
        "id": "mwDD-gL5Q8vi"
      },
      "execution_count": null,
      "outputs": []
    },
    {
      "cell_type": "code",
      "source": [
        "print(\"Moda da duração do sono por profissão:\")\n",
        "print(moda_por_profissao)"
      ],
      "metadata": {
        "colab": {
          "base_uri": "https://localhost:8080/"
        },
        "id": "feo3tvRJRyDm",
        "outputId": "0ecb8f5b-8b36-403b-9640-1236d1358361"
      },
      "execution_count": null,
      "outputs": [
        {
          "output_type": "stream",
          "name": "stdout",
          "text": [
            "Moda da duração do sono por profissão:\n",
            "Profissão\n",
            "Advogado(a)                7.2\n",
            "Cientista                  5.8\n",
            "Contador(a)                7.2\n",
            "Enfermeiro(a)              6.1\n",
            "Eng. de Software           7.5\n",
            "Engenheiro(a)              8.4\n",
            "Gerente                    6.9\n",
            "Médico(a)                  6.0\n",
            "Pessoa Vendendora          6.5\n",
            "Professor(a)               6.6\n",
            "Representante de Vendas    5.9\n",
            "Name: Duração do sono, dtype: float64\n"
          ]
        }
      ]
    },
    {
      "cell_type": "markdown",
      "source": [
        "3. Das pessoas que atuam com engenharia de software qual a\n",
        "porcentagem de obesos?"
      ],
      "metadata": {
        "id": "g1Rd28BmYNXz"
      }
    },
    {
      "cell_type": "code",
      "source": [
        "engenharia_software_obesos = dataframe[(dataframe['Profissão'] == 'Eng. de Software') & (dataframe['Categoria IMC'] == 'Obesidade')]"
      ],
      "metadata": {
        "id": "3gFGA2q_WHU7"
      },
      "execution_count": null,
      "outputs": []
    },
    {
      "cell_type": "code",
      "source": [
        "total_eng_software_obesos = len(engenharia_software_obesos)"
      ],
      "metadata": {
        "id": "ZFK4_I9fWNkf"
      },
      "execution_count": null,
      "outputs": []
    },
    {
      "cell_type": "code",
      "source": [
        "print(\"Total de Engenheiros de Software na categoria de Obesidade:\", total_eng_software_obesos)"
      ],
      "metadata": {
        "colab": {
          "base_uri": "https://localhost:8080/"
        },
        "id": "1XFOq0qtWQ8L",
        "outputId": "c7c2c095-89d2-4edb-d548-1acd4f6f20f1"
      },
      "execution_count": null,
      "outputs": [
        {
          "output_type": "stream",
          "name": "stdout",
          "text": [
            "Total de Engenheiros de Software na categoria de Obesidade: 1\n"
          ]
        }
      ]
    },
    {
      "cell_type": "code",
      "source": [
        "engenharia_software_total = dataframe[dataframe['Profissão'] == 'Eng. de Software']"
      ],
      "metadata": {
        "id": "0jSIg3JdWxhS"
      },
      "execution_count": null,
      "outputs": []
    },
    {
      "cell_type": "code",
      "source": [
        "total_eng_software = len(engenharia_software_total)"
      ],
      "metadata": {
        "id": "gGn-bOafXCJD"
      },
      "execution_count": null,
      "outputs": []
    },
    {
      "cell_type": "code",
      "source": [
        "print(\"Total de Engenheiros de Software:\", total_eng_software)"
      ],
      "metadata": {
        "colab": {
          "base_uri": "https://localhost:8080/"
        },
        "id": "-be_GvupXE7C",
        "outputId": "6d6bd7f8-86c4-4a9c-d8ea-245cb9ba7a71"
      },
      "execution_count": null,
      "outputs": [
        {
          "output_type": "stream",
          "name": "stdout",
          "text": [
            "Total de Engenheiros de Software: 4\n"
          ]
        }
      ]
    },
    {
      "cell_type": "code",
      "source": [
        "porcentagem_obesidade_eng_software = (total_eng_software_obesos / total_eng_software) * 100"
      ],
      "metadata": {
        "id": "SdaUB5vHXYeB"
      },
      "execution_count": null,
      "outputs": []
    },
    {
      "cell_type": "code",
      "source": [
        "print(\"Porcentagem de obesidade entre os engenheiros de software: {:.2f}%\".format(porcentagem_obesidade_eng_software))"
      ],
      "metadata": {
        "colab": {
          "base_uri": "https://localhost:8080/"
        },
        "id": "ewfbH8_IXaCw",
        "outputId": "6a7cfd20-5450-485f-80cc-ad98f8ad43e2"
      },
      "execution_count": null,
      "outputs": [
        {
          "output_type": "stream",
          "name": "stdout",
          "text": [
            "Porcentagem de obesidade entre os engenheiros de software: 25.00%\n"
          ]
        }
      ]
    },
    {
      "cell_type": "markdown",
      "source": [
        "4. De acordo com os dados, advogar ou ser representante de vendas faz\n",
        "você dormir menos? (Use o método ‘isin’, considere a média)\n"
      ],
      "metadata": {
        "id": "17m_SzxcYQMs"
      }
    },
    {
      "cell_type": "code",
      "source": [
        "df_outros = df[~df['Profissão'].isin(['Advogado(a)', 'Representante de Vendas'])]"
      ],
      "metadata": {
        "id": "S-Ln10ZbIjtI"
      },
      "execution_count": null,
      "outputs": []
    },
    {
      "cell_type": "code",
      "source": [
        "media_outros = df_outros['Duração do sono'].mean()"
      ],
      "metadata": {
        "id": "pcCPDWpRIjic"
      },
      "execution_count": null,
      "outputs": []
    },
    {
      "cell_type": "code",
      "source": [
        "print(\"Média de sono das outras profissões:\", media_outros)"
      ],
      "metadata": {
        "id": "K1mAJVedIjfh",
        "colab": {
          "base_uri": "https://localhost:8080/"
        },
        "outputId": "af7afc13-cf70-42a4-bab5-ebb34080c753"
      },
      "execution_count": null,
      "outputs": [
        {
          "output_type": "stream",
          "name": "stdout",
          "text": [
            "Média de sono das outras profissões: 7.096296296296297\n"
          ]
        }
      ]
    },
    {
      "cell_type": "code",
      "source": [
        "advogado_representante = dataframe[dataframe['Profissão'].isin(['Advogado(a)', 'Representante de Vendas'])]"
      ],
      "metadata": {
        "id": "57oeOu9LNnJ5"
      },
      "execution_count": null,
      "outputs": []
    },
    {
      "cell_type": "code",
      "source": [
        "media_por_profissao = advogado_representante.groupby('Profissão')['Duração do sono'].mean()"
      ],
      "metadata": {
        "id": "Pb2PJoZaNpep"
      },
      "execution_count": null,
      "outputs": []
    },
    {
      "cell_type": "code",
      "source": [
        "print(\"Média da duração do sono para enfermeiros e médicos:\")\n",
        "print(media_por_profissao)"
      ],
      "metadata": {
        "colab": {
          "base_uri": "https://localhost:8080/"
        },
        "id": "wwBkmsR8NpZw",
        "outputId": "c5f2ec55-590c-4729-fcbd-4437e44fa0d6"
      },
      "execution_count": null,
      "outputs": [
        {
          "output_type": "stream",
          "name": "stdout",
          "text": [
            "Média da duração do sono para enfermeiros e médicos:\n",
            "Profissão\n",
            "Advogado(a)                7.410638\n",
            "Representante de Vendas    5.900000\n",
            "Name: Duração do sono, dtype: float64\n"
          ]
        }
      ]
    },
    {
      "cell_type": "code",
      "source": [
        "if media_por_profissao['Advogado(a)'] < media_outros:\n",
        "    print(\"Sim, ser advogado faz dormir menos.\")\n",
        "elif media_por_profissao['Advogado(a)'] > media_outros:\n",
        "    print(\"Não, ser advogado não faz dormir menos.\")\n",
        "else:\n",
        "    print(\"Advogados tem a mesma média de sono.\")"
      ],
      "metadata": {
        "colab": {
          "base_uri": "https://localhost:8080/"
        },
        "id": "Tkaw_wjQNpXU",
        "outputId": "0c1ae7f9-0a31-4130-df5e-d60a47a3e24a"
      },
      "execution_count": null,
      "outputs": [
        {
          "output_type": "stream",
          "name": "stdout",
          "text": [
            "Não, ser advogado não faz dormir menos.\n"
          ]
        }
      ]
    },
    {
      "cell_type": "code",
      "source": [
        "if media_por_profissao['Representante de Vendas'] < media_outros:\n",
        "    print(\"Sim, ser Representante de Vendas faz dormir menos.\")\n",
        "elif media_por_profissao['Representante de Vendas'] > media_outros:\n",
        "    print(\"Não, ser Representante de Vendas não faz dormir menos.\")\n",
        "else:\n",
        "    print(\"Representante de Vendas tem a mesma média de sono.\")"
      ],
      "metadata": {
        "colab": {
          "base_uri": "https://localhost:8080/"
        },
        "id": "QiFgyIi5NpPz",
        "outputId": "01e42a39-1360-44b6-e5b7-450ac7f6985a"
      },
      "execution_count": null,
      "outputs": [
        {
          "output_type": "stream",
          "name": "stdout",
          "text": [
            "Sim, ser Representante de Vendas faz dormir menos.\n"
          ]
        }
      ]
    },
    {
      "cell_type": "markdown",
      "source": [
        "5. Entre quem fez enfermagem e quem fez medicina, quem tem menos\n",
        "horas de sono? (Use o método ‘isin’, considere a média)\n"
      ],
      "metadata": {
        "id": "tSriI1WEfBlk"
      }
    },
    {
      "cell_type": "code",
      "source": [
        "profissao1 = ['Enfermeiro(a)']"
      ],
      "metadata": {
        "id": "zFoefGVwfDts"
      },
      "execution_count": null,
      "outputs": []
    },
    {
      "cell_type": "code",
      "source": [
        "profissao2 = ['Médico(a)']"
      ],
      "metadata": {
        "id": "5Mp9xe4xhOjG"
      },
      "execution_count": null,
      "outputs": []
    },
    {
      "cell_type": "code",
      "source": [
        "media_sono_enfermeiro = media_por_profissao[media_por_profissao.index.isin(profissao1)]"
      ],
      "metadata": {
        "id": "2fQsaZ7KfioI"
      },
      "execution_count": null,
      "outputs": []
    },
    {
      "cell_type": "code",
      "source": [
        "print(\"Média de sono de Enfermeiros:\")\n",
        "print(media_sono_enfermeiro)"
      ],
      "metadata": {
        "colab": {
          "base_uri": "https://localhost:8080/"
        },
        "id": "Uywyd065fpVP",
        "outputId": "9e8414b2-a1b2-4392-955f-cc79bcbf4246"
      },
      "execution_count": null,
      "outputs": [
        {
          "output_type": "stream",
          "name": "stdout",
          "text": [
            "Média de sono de Enfermeiros:\n",
            "Profissão\n",
            "Enfermeiro(a)    7.048611\n",
            "Name: Duração do sono, dtype: float64\n"
          ]
        }
      ]
    },
    {
      "cell_type": "code",
      "source": [
        "media_sono_medico = media_por_profissao[media_por_profissao.index.isin(profissao2)]"
      ],
      "metadata": {
        "id": "VpTB5AOHgo60"
      },
      "execution_count": null,
      "outputs": []
    },
    {
      "cell_type": "code",
      "source": [
        "print(\"Média de sono de Médicos:\")\n",
        "print(media_sono_medico)"
      ],
      "metadata": {
        "colab": {
          "base_uri": "https://localhost:8080/"
        },
        "id": "w8t00xdsh6Y6",
        "outputId": "14c51379-5a8b-4a28-fb84-a4242bb98a69"
      },
      "execution_count": null,
      "outputs": [
        {
          "output_type": "stream",
          "name": "stdout",
          "text": [
            "Média de sono de Médicos:\n",
            "Profissão\n",
            "Médico(a)    6.970423\n",
            "Name: Duração do sono, dtype: float64\n"
          ]
        }
      ]
    },
    {
      "cell_type": "markdown",
      "source": [
        "teste"
      ],
      "metadata": {
        "id": "ROiYcwwaDOAo"
      }
    },
    {
      "cell_type": "code",
      "source": [
        "enfermagem_medicina = dataframe[dataframe['Profissão'].isin(['Enfermeiro(a)', 'Médico(a)'])]"
      ],
      "metadata": {
        "id": "l89g-imCDPEA"
      },
      "execution_count": null,
      "outputs": []
    },
    {
      "cell_type": "code",
      "source": [
        "media_por_profissao = enfermagem_medicina.groupby('Profissão')['Duração do sono'].mean()"
      ],
      "metadata": {
        "id": "ECpT7NuuDVZR"
      },
      "execution_count": null,
      "outputs": []
    },
    {
      "cell_type": "code",
      "source": [
        "print(\"Média da duração do sono para enfermeiros e médicos:\")\n",
        "print(media_por_profissao)"
      ],
      "metadata": {
        "colab": {
          "base_uri": "https://localhost:8080/"
        },
        "id": "AkPhd0jlDbIY",
        "outputId": "6a5b5bb8-d21e-443b-da8f-46026ac3b40b"
      },
      "execution_count": null,
      "outputs": [
        {
          "output_type": "stream",
          "name": "stdout",
          "text": [
            "Média da duração do sono para enfermeiros e médicos:\n",
            "Profissão\n",
            "Enfermeiro(a)    7.048611\n",
            "Médico(a)        6.970423\n",
            "Name: Duração do sono, dtype: float64\n"
          ]
        }
      ]
    },
    {
      "cell_type": "code",
      "source": [
        "if media_por_profissao['Enfermeiro(a)'] < media_por_profissao['Médico(a)']:\n",
        "    print(\"Enfermeiros têm menos horas de sono em média do que médicos.\")\n",
        "elif media_por_profissao['Enfermeiro(a)'] > media_por_profissao['Médico(a)']:\n",
        "    print(\"Médicos têm menos horas de sono em média do que enfermeiros.\")\n",
        "else:\n",
        "    print(\"Enfermeiros e médicos têm a mesma média de horas de sono.\")"
      ],
      "metadata": {
        "colab": {
          "base_uri": "https://localhost:8080/"
        },
        "id": "-ISGKu-ODhrx",
        "outputId": "8e58ec4e-72c6-467d-dcfa-81ce39505354"
      },
      "execution_count": null,
      "outputs": [
        {
          "output_type": "stream",
          "name": "stdout",
          "text": [
            "Médicos têm menos horas de sono em média do que enfermeiros.\n"
          ]
        }
      ]
    },
    {
      "cell_type": "markdown",
      "source": [
        "6. Faça um subconjunto com as colunas Identificador, Gênero, Idade,\n",
        "Pressão sanguínea e Frequência cardíaca.\n"
      ],
      "metadata": {
        "id": "Xf6y1weoOXbS"
      }
    },
    {
      "cell_type": "code",
      "source": [
        "subconjunto = df[['Identificador', 'Gênero', 'Idade', 'Pressão sanguínea', 'Frequência cardíaca']]"
      ],
      "metadata": {
        "id": "KNmwa-owOq-1"
      },
      "execution_count": null,
      "outputs": []
    },
    {
      "cell_type": "code",
      "source": [
        "print(subconjunto)"
      ],
      "metadata": {
        "colab": {
          "base_uri": "https://localhost:8080/"
        },
        "id": "dnwIge5qO_ql",
        "outputId": "39f8b0c5-d839-49f2-9bb1-52c119bf8317"
      },
      "execution_count": null,
      "outputs": [
        {
          "output_type": "stream",
          "name": "stdout",
          "text": [
            "     Identificador  Gênero  Idade Pressão sanguínea  Frequência cardíaca\n",
            "0                1   Homem     27            126/83                   77\n",
            "1                2   Homem     28            125/80                   75\n",
            "2                3   Homem     28            125/80                   75\n",
            "3                4   Homem     28            140/90                   85\n",
            "4                5   Homem     28            140/90                   85\n",
            "..             ...     ...    ...               ...                  ...\n",
            "368            369  Mulher     59            140/95                   68\n",
            "369            370  Mulher     59            140/95                   68\n",
            "370            371  Mulher     59            140/95                   68\n",
            "371            372  Mulher     59            140/95                   68\n",
            "372            373  Mulher     59            140/95                   68\n",
            "\n",
            "[373 rows x 5 columns]\n"
          ]
        }
      ]
    },
    {
      "cell_type": "markdown",
      "source": [
        "7. Descubra qual a profissão menos frequente no conjunto."
      ],
      "metadata": {
        "id": "5AmV6b7FPKOn"
      }
    },
    {
      "cell_type": "code",
      "source": [
        "frequencia_profissoes = df['Profissão'].value_counts()"
      ],
      "metadata": {
        "id": "rwxZGvUbPPdn"
      },
      "execution_count": null,
      "outputs": []
    },
    {
      "cell_type": "code",
      "source": [
        "profissao_menos_frequente = frequencia_profissoes.idxmin()"
      ],
      "metadata": {
        "id": "jRJwiRoOPWHx"
      },
      "execution_count": null,
      "outputs": []
    },
    {
      "cell_type": "code",
      "source": [
        "print(\"A profissão menos frequente no conjunto é:\", profissao_menos_frequente)"
      ],
      "metadata": {
        "colab": {
          "base_uri": "https://localhost:8080/"
        },
        "id": "ucyE_fofPY2x",
        "outputId": "00fa132a-22c6-4dcd-e08b-adba074e5fc9"
      },
      "execution_count": null,
      "outputs": [
        {
          "output_type": "stream",
          "name": "stdout",
          "text": [
            "A profissão menos frequente no conjunto é: Gerente\n"
          ]
        }
      ]
    },
    {
      "cell_type": "markdown",
      "source": [
        "8. Quem tem maior pressão sanguínea média, homens ou mulheres?\n",
        "(Considere a média)"
      ],
      "metadata": {
        "id": "O40z6SRSPbbL"
      }
    },
    {
      "cell_type": "code",
      "source": [
        "pressao_sist = df['Pressão sanguínea'].str.slice(stop=3)"
      ],
      "metadata": {
        "id": "d90fNR_61jKG"
      },
      "execution_count": null,
      "outputs": []
    },
    {
      "cell_type": "code",
      "source": [
        "print(pressao_sist)"
      ],
      "metadata": {
        "colab": {
          "base_uri": "https://localhost:8080/"
        },
        "id": "ksBUtpDx1jHN",
        "outputId": "a29fb1b9-58dd-4383-ebec-179cd48fcd0f"
      },
      "execution_count": null,
      "outputs": [
        {
          "output_type": "stream",
          "name": "stdout",
          "text": [
            "0      126\n",
            "1      125\n",
            "2      125\n",
            "3      140\n",
            "4      140\n",
            "      ... \n",
            "368    140\n",
            "369    140\n",
            "370    140\n",
            "371    140\n",
            "372    140\n",
            "Name: Pressão sanguínea, Length: 373, dtype: object\n"
          ]
        }
      ]
    },
    {
      "cell_type": "code",
      "source": [
        "pressao_sist_masc = df[df['Gênero'] == 'Homem']['Pressão sanguínea'].str.slice(stop=3)"
      ],
      "metadata": {
        "id": "TlExFnEe1jEk"
      },
      "execution_count": null,
      "outputs": []
    },
    {
      "cell_type": "code",
      "source": [
        "print(pressao_sist_masc)"
      ],
      "metadata": {
        "colab": {
          "base_uri": "https://localhost:8080/"
        },
        "id": "OJJaeqgu1jAU",
        "outputId": "77f60cc4-58c6-4513-e7e6-2e717ab0b60d"
      },
      "execution_count": null,
      "outputs": [
        {
          "output_type": "stream",
          "name": "stdout",
          "text": [
            "0      126\n",
            "1      125\n",
            "2      125\n",
            "3      140\n",
            "4      140\n",
            "      ... \n",
            "249    130\n",
            "264    142\n",
            "266    142\n",
            "276    139\n",
            "277    139\n",
            "Name: Pressão sanguínea, Length: 189, dtype: object\n"
          ]
        }
      ]
    },
    {
      "cell_type": "code",
      "source": [
        "media_pressao_sist_masc = pd.to_numeric(pressao_sist_masc).mean()"
      ],
      "metadata": {
        "id": "ByNx-Sot7DmI"
      },
      "execution_count": null,
      "outputs": []
    },
    {
      "cell_type": "code",
      "source": [
        "print(\"Média da pressão sistólica para o gênero masculino:\", media_pressao_sist_masc)"
      ],
      "metadata": {
        "colab": {
          "base_uri": "https://localhost:8080/"
        },
        "id": "xtzkit0C7Db1",
        "outputId": "786fadbe-d52b-4d50-c7a0-e7ff914db71f"
      },
      "execution_count": null,
      "outputs": [
        {
          "output_type": "stream",
          "name": "stdout",
          "text": [
            "Média da pressão sistólica para o gênero masculino: 126.94179894179894\n"
          ]
        }
      ]
    },
    {
      "cell_type": "code",
      "source": [
        "pressao_diast_masc = df[df['Gênero'] == 'Homem']['Pressão sanguínea'].str.slice(start=-2)"
      ],
      "metadata": {
        "id": "VYFbYbbI1i5K"
      },
      "execution_count": null,
      "outputs": []
    },
    {
      "cell_type": "code",
      "source": [
        "print(pressao_diast_masc)"
      ],
      "metadata": {
        "colab": {
          "base_uri": "https://localhost:8080/"
        },
        "id": "XEagy_ey8Ag-",
        "outputId": "4136f7cf-9169-49e1-8eaa-417c40de2ce1"
      },
      "execution_count": null,
      "outputs": [
        {
          "output_type": "stream",
          "name": "stdout",
          "text": [
            "0      83\n",
            "1      80\n",
            "2      80\n",
            "3      90\n",
            "4      90\n",
            "       ..\n",
            "249    85\n",
            "264    92\n",
            "266    92\n",
            "276    91\n",
            "277    91\n",
            "Name: Pressão sanguínea, Length: 189, dtype: object\n"
          ]
        }
      ]
    },
    {
      "cell_type": "code",
      "source": [
        "media_pressao_diast_masc = pd.to_numeric(pressao_diast_masc).mean()"
      ],
      "metadata": {
        "id": "ZAck7kq48G84"
      },
      "execution_count": null,
      "outputs": []
    },
    {
      "cell_type": "code",
      "source": [
        "media_pressao_diast_masc_int = round(media_pressao_diast_masc)"
      ],
      "metadata": {
        "id": "mhuVZ8gJ8luu"
      },
      "execution_count": null,
      "outputs": []
    },
    {
      "cell_type": "code",
      "source": [
        "print(\"Média da pressão diastólica para o gênero masculino:\", media_pressao_diast_masc_int)"
      ],
      "metadata": {
        "colab": {
          "base_uri": "https://localhost:8080/"
        },
        "id": "JtQr8B808OXB",
        "outputId": "af7f8d1c-81aa-4afd-ecbb-d4e939b78998"
      },
      "execution_count": null,
      "outputs": [
        {
          "output_type": "stream",
          "name": "stdout",
          "text": [
            "Média da pressão diastólica para o gênero masculino: 83\n"
          ]
        }
      ]
    },
    {
      "cell_type": "markdown",
      "source": [
        "mulher"
      ],
      "metadata": {
        "id": "O_Ieh2su88om"
      }
    },
    {
      "cell_type": "code",
      "source": [
        "pressao_sist_fem = df[df['Gênero'] == 'Mulher']['Pressão sanguínea'].str.slice(stop=3)"
      ],
      "metadata": {
        "id": "IYGs8-Gv8x4U"
      },
      "execution_count": null,
      "outputs": []
    },
    {
      "cell_type": "code",
      "source": [
        "print(pressao_sist_fem)"
      ],
      "metadata": {
        "colab": {
          "base_uri": "https://localhost:8080/"
        },
        "id": "0PM5XpOx9Kbn",
        "outputId": "c09ac160-7670-4444-f9f0-d262e0c4e7dd"
      },
      "execution_count": null,
      "outputs": [
        {
          "output_type": "stream",
          "name": "stdout",
          "text": [
            "16     132\n",
            "18     132\n",
            "30     130\n",
            "31     130\n",
            "32     117\n",
            "      ... \n",
            "368    140\n",
            "369    140\n",
            "370    140\n",
            "371    140\n",
            "372    140\n",
            "Name: Pressão sanguínea, Length: 184, dtype: object\n"
          ]
        }
      ]
    },
    {
      "cell_type": "code",
      "source": [
        "media_pressao_sist_fem = pd.to_numeric(pressao_sist_fem).mean()"
      ],
      "metadata": {
        "id": "FjxRWUXK9KY7"
      },
      "execution_count": null,
      "outputs": []
    },
    {
      "cell_type": "code",
      "source": [
        "media_pressao_sist_fem_int = round(media_pressao_sist_fem)"
      ],
      "metadata": {
        "id": "utF1l4tI9rTV"
      },
      "execution_count": null,
      "outputs": []
    },
    {
      "cell_type": "code",
      "source": [
        "print(\"Média da pressão sistólica para o gênero feminino:\", media_pressao_sist_fem_int)"
      ],
      "metadata": {
        "colab": {
          "base_uri": "https://localhost:8080/"
        },
        "id": "YhZnpvdp9KWp",
        "outputId": "0afe858a-a222-421c-cdbf-889580249761"
      },
      "execution_count": null,
      "outputs": [
        {
          "output_type": "stream",
          "name": "stdout",
          "text": [
            "Média da pressão sistólica para o gênero feminino: 130\n"
          ]
        }
      ]
    },
    {
      "cell_type": "code",
      "source": [
        "pressao_diast_fem = df[df['Gênero'] == 'Mulher']['Pressão sanguínea'].str.slice(start=-2)"
      ],
      "metadata": {
        "id": "TSZXIGqN9KUH"
      },
      "execution_count": null,
      "outputs": []
    },
    {
      "cell_type": "code",
      "source": [
        "print(pressao_diast_fem)"
      ],
      "metadata": {
        "colab": {
          "base_uri": "https://localhost:8080/"
        },
        "id": "s94fsuSE9KRi",
        "outputId": "b586c115-5d44-4945-b794-7a2980d4e972"
      },
      "execution_count": null,
      "outputs": [
        {
          "output_type": "stream",
          "name": "stdout",
          "text": [
            "16     87\n",
            "18     87\n",
            "30     86\n",
            "31     86\n",
            "32     76\n",
            "       ..\n",
            "368    95\n",
            "369    95\n",
            "370    95\n",
            "371    95\n",
            "372    95\n",
            "Name: Pressão sanguínea, Length: 184, dtype: object\n"
          ]
        }
      ]
    },
    {
      "cell_type": "code",
      "source": [
        "media_pressao_diast_fem = pd.to_numeric(pressao_diast_fem).mean()"
      ],
      "metadata": {
        "id": "cBEWHjMI9KOm"
      },
      "execution_count": null,
      "outputs": []
    },
    {
      "cell_type": "code",
      "source": [
        "media_pressao_diast_fem_int = round(media_pressao_diast_fem)"
      ],
      "metadata": {
        "id": "XRj1JS6V9KCZ"
      },
      "execution_count": null,
      "outputs": []
    },
    {
      "cell_type": "code",
      "source": [
        "print(\"Média da pressão diastólica para o gênero feminino:\", media_pressao_diast_fem_int)"
      ],
      "metadata": {
        "colab": {
          "base_uri": "https://localhost:8080/"
        },
        "id": "L9eBTg-e-PY1",
        "outputId": "8536e1fb-f183-49d0-a246-5b7fc56393be"
      },
      "execution_count": null,
      "outputs": [
        {
          "output_type": "stream",
          "name": "stdout",
          "text": [
            "Média da pressão diastólica para o gênero feminino: 86\n"
          ]
        }
      ]
    },
    {
      "cell_type": "markdown",
      "source": [
        "Pressão arterial média masc\n",
        "\n",
        "Fórmula utilizada -> PAM = (Pressão Sistólica + 2 x Pressão Diastólica) / 3"
      ],
      "metadata": {
        "id": "4pZFZDFL-q8H"
      }
    },
    {
      "cell_type": "code",
      "source": [
        "pam_masc = (media_pressao_sist_masc + 2 * media_pressao_diast_masc_int) / 3"
      ],
      "metadata": {
        "id": "fSLsJw_G-ZxW"
      },
      "execution_count": null,
      "outputs": []
    },
    {
      "cell_type": "code",
      "source": [
        "print(\"Pressão arterial média masculina:\", pam_masc)"
      ],
      "metadata": {
        "colab": {
          "base_uri": "https://localhost:8080/"
        },
        "id": "twsqQNbo_P6K",
        "outputId": "80927b94-c9d1-4323-f3a2-e8f8dea70acc"
      },
      "execution_count": null,
      "outputs": [
        {
          "output_type": "stream",
          "name": "stdout",
          "text": [
            "Pressão arterial média masculina: 97.64726631393297\n"
          ]
        }
      ]
    },
    {
      "cell_type": "markdown",
      "source": [
        "Pressao arterial média feminina\n",
        "\n",
        "Fórmula utilizada -> PAM = (Pressão Sistólica + 2 x Pressão Diastólica) / 3"
      ],
      "metadata": {
        "id": "Hn_I1fZ5_p2w"
      }
    },
    {
      "cell_type": "code",
      "source": [
        "pam_fem = (media_pressao_sist_fem_int + 2 * media_pressao_diast_fem_int) / 3"
      ],
      "metadata": {
        "id": "kMemZ-Bp_o0k"
      },
      "execution_count": null,
      "outputs": []
    },
    {
      "cell_type": "code",
      "source": [
        "print(\"Pressão arterial média feminina:\", pam_fem)"
      ],
      "metadata": {
        "colab": {
          "base_uri": "https://localhost:8080/"
        },
        "id": "piJXQhpcAM1o",
        "outputId": "af544e01-2490-4efe-91de-e55d46463990"
      },
      "execution_count": null,
      "outputs": [
        {
          "output_type": "stream",
          "name": "stdout",
          "text": [
            "Pressão arterial média feminina: 100.66666666666667\n"
          ]
        }
      ]
    },
    {
      "cell_type": "code",
      "source": [
        "if pam_masc > pam_fem:\n",
        "    print(\"Homens possuem maior pressão arterial média.\")\n",
        "elif pam_masc < pam_fem:\n",
        "    print(\"Mulheres possuem maior pressão arterial média.\")\n",
        "else:\n",
        "    print(\"Ambos possuem a mesma pressão arterial média.\")"
      ],
      "metadata": {
        "colab": {
          "base_uri": "https://localhost:8080/"
        },
        "id": "V_oZwNS6ASyX",
        "outputId": "959886a4-117f-484e-e602-bfca32ae21e2"
      },
      "execution_count": null,
      "outputs": [
        {
          "output_type": "stream",
          "name": "stdout",
          "text": [
            "Mulheres possuem maior pressão arterial média.\n"
          ]
        }
      ]
    },
    {
      "cell_type": "markdown",
      "source": [
        "9. É predominante entre os participantes dormir 8 horas por dia\n",
        "(considere usar Moda como medida)?\n"
      ],
      "metadata": {
        "id": "LCL-RmPPA9N2"
      }
    },
    {
      "cell_type": "code",
      "source": [
        "if 8 in moda_por_profissao:\n",
        "    print(\"Sim, é predominante entre os participantes dormir 8 horas por dia\")\n",
        "else:\n",
        "    print(\"Não é predominante entre os participantes dormir 8 horas por dia\")"
      ],
      "metadata": {
        "colab": {
          "base_uri": "https://localhost:8080/"
        },
        "id": "5HeFCfrcBHLF",
        "outputId": "ee20f9e0-71cd-4856-ef21-8f397ddccf40"
      },
      "execution_count": null,
      "outputs": [
        {
          "output_type": "stream",
          "name": "stdout",
          "text": [
            "Não é predominante entre os participantes dormir 8 horas por dia\n"
          ]
        }
      ]
    },
    {
      "cell_type": "markdown",
      "source": [
        "10.  Pessoas com frequências cardíacas acima de 70 dão mais passos que\n",
        "pessoas com frequência cardíaca menor ou igual a 70? (Use a média)"
      ],
      "metadata": {
        "id": "LMuZSFx-BHln"
      }
    },
    {
      "cell_type": "code",
      "source": [
        "media_passos_acima_70 = df[df['Frequência cardíaca'] > 70]['Passos diários'].mean()"
      ],
      "metadata": {
        "id": "EFarUgM_BM3Y"
      },
      "execution_count": null,
      "outputs": []
    },
    {
      "cell_type": "code",
      "source": [
        "media_passos_abaixo_70 = df[df['Frequência cardíaca'] <= 70]['Passos diários'].mean()"
      ],
      "metadata": {
        "id": "U37T5PU_C1mu"
      },
      "execution_count": null,
      "outputs": []
    },
    {
      "cell_type": "code",
      "source": [
        "if media_passos_acima_70 > media_passos_abaixo_70:\n",
        "    print(\"Sim, pessoas com frequências cardíacas acima de 70 dão mais passos do que pessoas com frequência cardíaca igual ou menor a 70.\")\n",
        "else:\n",
        "    print(\"Não, pessoas com frequências cardíacas acima de 70 não dão mais passos do que pessoas com frequência cardíaca igual ou menor a 70.\")"
      ],
      "metadata": {
        "colab": {
          "base_uri": "https://localhost:8080/"
        },
        "id": "-Nm2BDLtBM0s",
        "outputId": "c1e89af3-d726-425e-9134-7dd046cac432"
      },
      "execution_count": null,
      "outputs": [
        {
          "output_type": "stream",
          "name": "stdout",
          "text": [
            "Não, pessoas com frequências cardíacas acima de 70 não dão mais passos do que pessoas com frequência cardíaca igual ou menor a 70.\n"
          ]
        }
      ]
    }
  ]
}